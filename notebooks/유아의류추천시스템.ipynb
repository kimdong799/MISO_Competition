{
 "cells": [
  {
   "cell_type": "markdown",
   "id": "japanese-month",
   "metadata": {},
   "source": [
    "# 유아의류 추천시스템"
   ]
  },
  {
   "cell_type": "code",
   "execution_count": 136,
   "id": "bearing-digest",
   "metadata": {
    "ExecuteTime": {
     "end_time": "2021-11-07T03:58:00.455745Z",
     "start_time": "2021-11-07T03:58:00.440786Z"
    }
   },
   "outputs": [],
   "source": [
    "from ast import literal_eval\n",
    "from sklearn.feature_extraction.text import TfidfVectorizer\n",
    "from sklearn.feature_extraction.text import CountVectorizer\n",
    "from sklearn.metrics.pairwise import cosine_similarity\n",
    "import surprise"
   ]
  },
  {
   "cell_type": "code",
   "execution_count": 346,
   "id": "greatest-front",
   "metadata": {
    "ExecuteTime": {
     "end_time": "2021-11-07T05:55:55.864132Z",
     "start_time": "2021-11-07T05:55:51.360155Z"
    }
   },
   "outputs": [
    {
     "name": "stdout",
     "output_type": "stream",
     "text": [
      "유저성별공용\n",
      "유저카테고리플리스\n",
      "유저용도유아공동의류\n"
     ]
    }
   ],
   "source": [
    "user_sex = input('유저성별')\n",
    "user_cat = input('유저카테고리')\n",
    "user_usage = input('유저용도')"
   ]
  },
  {
   "cell_type": "code",
   "execution_count": 396,
   "id": "integrated-indian",
   "metadata": {
    "ExecuteTime": {
     "end_time": "2021-11-07T05:57:33.899441Z",
     "start_time": "2021-11-07T05:57:33.879865Z"
    }
   },
   "outputs": [
    {
     "data": {
      "text/html": [
       "<div>\n",
       "<style scoped>\n",
       "    .dataframe tbody tr th:only-of-type {\n",
       "        vertical-align: middle;\n",
       "    }\n",
       "\n",
       "    .dataframe tbody tr th {\n",
       "        vertical-align: top;\n",
       "    }\n",
       "\n",
       "    .dataframe thead th {\n",
       "        text-align: right;\n",
       "    }\n",
       "</style>\n",
       "<table border=\"1\" class=\"dataframe\">\n",
       "  <thead>\n",
       "    <tr style=\"text-align: right;\">\n",
       "      <th></th>\n",
       "      <th>성별</th>\n",
       "      <th>카테고리</th>\n",
       "      <th>용도</th>\n",
       "    </tr>\n",
       "  </thead>\n",
       "  <tbody>\n",
       "    <tr>\n",
       "      <th>0</th>\n",
       "      <td>공용</td>\n",
       "      <td>플리스</td>\n",
       "      <td>유아공동의류</td>\n",
       "    </tr>\n",
       "  </tbody>\n",
       "</table>\n",
       "</div>"
      ],
      "text/plain": [
       "   성별 카테고리      용도\n",
       "0  공용  플리스  유아공동의류"
      ]
     },
     "execution_count": 396,
     "metadata": {},
     "output_type": "execute_result"
    }
   ],
   "source": [
    "user_select_df = pd.DataFrame(np.array([[user_sex, user_cat, user_usage]]))\n",
    "user_select_df.columns = ['성별', '카테고리', '용도']\n",
    "user_select_df"
   ]
  },
  {
   "cell_type": "code",
   "execution_count": 397,
   "id": "painful-breach",
   "metadata": {
    "ExecuteTime": {
     "end_time": "2021-11-07T05:57:34.277608Z",
     "start_time": "2021-11-07T05:57:34.254669Z"
    }
   },
   "outputs": [
    {
     "data": {
      "text/html": [
       "<div>\n",
       "<style scoped>\n",
       "    .dataframe tbody tr th:only-of-type {\n",
       "        vertical-align: middle;\n",
       "    }\n",
       "\n",
       "    .dataframe tbody tr th {\n",
       "        vertical-align: top;\n",
       "    }\n",
       "\n",
       "    .dataframe thead th {\n",
       "        text-align: right;\n",
       "    }\n",
       "</style>\n",
       "<table border=\"1\" class=\"dataframe\">\n",
       "  <thead>\n",
       "    <tr style=\"text-align: right;\">\n",
       "      <th></th>\n",
       "      <th>상품명</th>\n",
       "      <th>성별</th>\n",
       "      <th>카테고리</th>\n",
       "      <th>용도</th>\n",
       "    </tr>\n",
       "  </thead>\n",
       "  <tbody>\n",
       "    <tr>\n",
       "      <th>0</th>\n",
       "      <td>user_preference</td>\n",
       "      <td>공용</td>\n",
       "      <td>플리스</td>\n",
       "      <td>유아공동의류</td>\n",
       "    </tr>\n",
       "  </tbody>\n",
       "</table>\n",
       "</div>"
      ],
      "text/plain": [
       "               상품명  성별 카테고리      용도\n",
       "0  user_preference  공용  플리스  유아공동의류"
      ]
     },
     "execution_count": 397,
     "metadata": {},
     "output_type": "execute_result"
    }
   ],
   "source": [
    "user_select_df = user_select_df.reset_index()\n",
    "user_select_df.rename(columns={'index':'상품명'}, inplace=True)\n",
    "user_select_df['상품명'] = 'user_preference'\n",
    "user_select_df"
   ]
  },
  {
   "cell_type": "code",
   "execution_count": 398,
   "id": "accepting-freight",
   "metadata": {
    "ExecuteTime": {
     "end_time": "2021-11-07T05:57:34.605044Z",
     "start_time": "2021-11-07T05:57:34.549193Z"
    }
   },
   "outputs": [
    {
     "data": {
      "text/html": [
       "<div>\n",
       "<style scoped>\n",
       "    .dataframe tbody tr th:only-of-type {\n",
       "        vertical-align: middle;\n",
       "    }\n",
       "\n",
       "    .dataframe tbody tr th {\n",
       "        vertical-align: top;\n",
       "    }\n",
       "\n",
       "    .dataframe thead th {\n",
       "        text-align: right;\n",
       "    }\n",
       "</style>\n",
       "<table border=\"1\" class=\"dataframe\">\n",
       "  <thead>\n",
       "    <tr style=\"text-align: right;\">\n",
       "      <th></th>\n",
       "      <th>상품명</th>\n",
       "      <th>성별</th>\n",
       "      <th>카테고리</th>\n",
       "      <th>용도</th>\n",
       "    </tr>\n",
       "  </thead>\n",
       "  <tbody>\n",
       "    <tr>\n",
       "      <th>0</th>\n",
       "      <td>[팬콧키즈]20%+10% 쿠폰 팬콧 주니어 윈터 아우터 기모 빅세일</td>\n",
       "      <td>공용</td>\n",
       "      <td>맨투맨</td>\n",
       "      <td>유아동공동의류</td>\n",
       "    </tr>\n",
       "    <tr>\n",
       "      <th>1</th>\n",
       "      <td>[페리미츠]레노마키즈 페리미츠 겨울 아우터/맨투맨/팬츠外 70종</td>\n",
       "      <td>여성</td>\n",
       "      <td>자켓</td>\n",
       "      <td>여아의류</td>\n",
       "    </tr>\n",
       "    <tr>\n",
       "      <th>2</th>\n",
       "      <td>[버블트리]주니어 여아 의류 아동복 원피스 팬츠 티셔츠</td>\n",
       "      <td>여성</td>\n",
       "      <td>원피스</td>\n",
       "      <td>여아의류</td>\n",
       "    </tr>\n",
       "  </tbody>\n",
       "</table>\n",
       "</div>"
      ],
      "text/plain": [
       "                                     상품명  성별 카테고리       용도\n",
       "0  [팬콧키즈]20%+10% 쿠폰 팬콧 주니어 윈터 아우터 기모 빅세일  공용  맨투맨  유아동공동의류\n",
       "1    [페리미츠]레노마키즈 페리미츠 겨울 아우터/맨투맨/팬츠外 70종  여성   자켓     여아의류\n",
       "2         [버블트리]주니어 여아 의류 아동복 원피스 팬츠 티셔츠  여성  원피스     여아의류"
      ]
     },
     "execution_count": 398,
     "metadata": {},
     "output_type": "execute_result"
    }
   ],
   "source": [
    "product_df_org = pd.read_excel('../data/추천시스템용 유아복데이터.xlsx')\n",
    "product_df=product_df_org[['상품명','성별','카테고리','용도']]\n",
    "product_df.head(3)"
   ]
  },
  {
   "cell_type": "code",
   "execution_count": 399,
   "id": "julian-kernel",
   "metadata": {
    "ExecuteTime": {
     "end_time": "2021-11-07T05:57:34.822616Z",
     "start_time": "2021-11-07T05:57:34.811647Z"
    }
   },
   "outputs": [
    {
     "data": {
      "text/plain": [
       "array(['맨투맨', '자켓', '원피스', '트레이닝복', '내의', '후드티', '플리스', '티셔츠', '수면조끼',\n",
       "       '패딩', '면바지'], dtype=object)"
      ]
     },
     "execution_count": 399,
     "metadata": {},
     "output_type": "execute_result"
    }
   ],
   "source": [
    "product_df['카테고리'].unique()"
   ]
  },
  {
   "cell_type": "code",
   "execution_count": 400,
   "id": "looking-money",
   "metadata": {
    "ExecuteTime": {
     "end_time": "2021-11-07T05:57:35.086029Z",
     "start_time": "2021-11-07T05:57:35.073037Z"
    },
    "scrolled": true
   },
   "outputs": [
    {
     "data": {
      "text/plain": [
       "array(['유아동공동의류', '여아의류', '유아동스포츠의류', '유아동내의/잠옷', '남아의류', '신생아의류', '여성의류',\n",
       "       '유아공동의류'], dtype=object)"
      ]
     },
     "execution_count": 400,
     "metadata": {},
     "output_type": "execute_result"
    }
   ],
   "source": [
    "product_df['용도'].unique()"
   ]
  },
  {
   "cell_type": "code",
   "execution_count": 401,
   "id": "latin-gathering",
   "metadata": {
    "ExecuteTime": {
     "end_time": "2021-11-07T05:57:35.401411Z",
     "start_time": "2021-11-07T05:57:35.373612Z"
    }
   },
   "outputs": [
    {
     "data": {
      "text/html": [
       "<div>\n",
       "<style scoped>\n",
       "    .dataframe tbody tr th:only-of-type {\n",
       "        vertical-align: middle;\n",
       "    }\n",
       "\n",
       "    .dataframe tbody tr th {\n",
       "        vertical-align: top;\n",
       "    }\n",
       "\n",
       "    .dataframe thead th {\n",
       "        text-align: right;\n",
       "    }\n",
       "</style>\n",
       "<table border=\"1\" class=\"dataframe\">\n",
       "  <thead>\n",
       "    <tr style=\"text-align: right;\">\n",
       "      <th></th>\n",
       "      <th>상품명</th>\n",
       "      <th>성별</th>\n",
       "      <th>카테고리</th>\n",
       "      <th>용도</th>\n",
       "    </tr>\n",
       "  </thead>\n",
       "  <tbody>\n",
       "    <tr>\n",
       "      <th>0</th>\n",
       "      <td>[팬콧키즈]20%+10% 쿠폰 팬콧 주니어 윈터 아우터 기모 빅세일</td>\n",
       "      <td>공용</td>\n",
       "      <td>맨투맨</td>\n",
       "      <td>유아동공동의류</td>\n",
       "    </tr>\n",
       "    <tr>\n",
       "      <th>1</th>\n",
       "      <td>[페리미츠]레노마키즈 페리미츠 겨울 아우터/맨투맨/팬츠外 70종</td>\n",
       "      <td>여성</td>\n",
       "      <td>자켓</td>\n",
       "      <td>여아의류</td>\n",
       "    </tr>\n",
       "    <tr>\n",
       "      <th>2</th>\n",
       "      <td>[버블트리]주니어 여아 의류 아동복 원피스 팬츠 티셔츠</td>\n",
       "      <td>여성</td>\n",
       "      <td>원피스</td>\n",
       "      <td>여아의류</td>\n",
       "    </tr>\n",
       "    <tr>\n",
       "      <th>3</th>\n",
       "      <td>[젤리스푼]아동복/아동의류/키즈경량패딩/레깅스/원피스/뽀글이</td>\n",
       "      <td>공용</td>\n",
       "      <td>트레이닝복</td>\n",
       "      <td>유아동스포츠의류</td>\n",
       "    </tr>\n",
       "    <tr>\n",
       "      <th>4</th>\n",
       "      <td>[휠라키즈](신세계강남점)휠라키즈 글로브 포켓맨투맨 2종</td>\n",
       "      <td>공용</td>\n",
       "      <td>맨투맨</td>\n",
       "      <td>유아동공동의류</td>\n",
       "    </tr>\n",
       "    <tr>\n",
       "      <th>...</th>\n",
       "      <td>...</td>\n",
       "      <td>...</td>\n",
       "      <td>...</td>\n",
       "      <td>...</td>\n",
       "    </tr>\n",
       "    <tr>\n",
       "      <th>96</th>\n",
       "      <td>[블루독베이비]크리스마스 수트 SET 40C70-675-03-BON</td>\n",
       "      <td>여성</td>\n",
       "      <td>맨투맨</td>\n",
       "      <td>여아의류</td>\n",
       "    </tr>\n",
       "    <tr>\n",
       "      <th>97</th>\n",
       "      <td>[바브키즈]바브키즈 가을신상 티/팬츠 모음전</td>\n",
       "      <td>공용</td>\n",
       "      <td>맨투맨</td>\n",
       "      <td>남아의류</td>\n",
       "    </tr>\n",
       "    <tr>\n",
       "      <th>98</th>\n",
       "      <td>[블랙야크키즈]BKS이센스맨투맨티셔츠</td>\n",
       "      <td>공용</td>\n",
       "      <td>티셔츠</td>\n",
       "      <td>유아공동의류</td>\n",
       "    </tr>\n",
       "    <tr>\n",
       "      <th>99</th>\n",
       "      <td>[팬콧키즈]팬콧키즈 아동 가을신상 가격인하 50종 택1</td>\n",
       "      <td>여성</td>\n",
       "      <td>원피스</td>\n",
       "      <td>여아의류</td>\n",
       "    </tr>\n",
       "    <tr>\n",
       "      <th>100</th>\n",
       "      <td>user_preference</td>\n",
       "      <td>공용</td>\n",
       "      <td>플리스</td>\n",
       "      <td>유아공동의류</td>\n",
       "    </tr>\n",
       "  </tbody>\n",
       "</table>\n",
       "<p>101 rows × 4 columns</p>\n",
       "</div>"
      ],
      "text/plain": [
       "                                       상품명  성별   카테고리        용도\n",
       "0    [팬콧키즈]20%+10% 쿠폰 팬콧 주니어 윈터 아우터 기모 빅세일  공용    맨투맨   유아동공동의류\n",
       "1      [페리미츠]레노마키즈 페리미츠 겨울 아우터/맨투맨/팬츠外 70종  여성     자켓      여아의류\n",
       "2           [버블트리]주니어 여아 의류 아동복 원피스 팬츠 티셔츠  여성    원피스      여아의류\n",
       "3        [젤리스푼]아동복/아동의류/키즈경량패딩/레깅스/원피스/뽀글이  공용  트레이닝복  유아동스포츠의류\n",
       "4          [휠라키즈](신세계강남점)휠라키즈 글로브 포켓맨투맨 2종  공용    맨투맨   유아동공동의류\n",
       "..                                     ...  ..    ...       ...\n",
       "96   [블루독베이비]크리스마스 수트 SET 40C70-675-03-BON  여성    맨투맨      여아의류\n",
       "97                [바브키즈]바브키즈 가을신상 티/팬츠 모음전  공용    맨투맨      남아의류\n",
       "98                    [블랙야크키즈]BKS이센스맨투맨티셔츠  공용    티셔츠    유아공동의류\n",
       "99          [팬콧키즈]팬콧키즈 아동 가을신상 가격인하 50종 택1  여성    원피스      여아의류\n",
       "100                        user_preference  공용    플리스    유아공동의류\n",
       "\n",
       "[101 rows x 4 columns]"
      ]
     },
     "execution_count": 401,
     "metadata": {},
     "output_type": "execute_result"
    }
   ],
   "source": [
    "product_df = product_df.append(user_select_df).reset_index()\n",
    "product_df.drop('index', axis=1)"
   ]
  },
  {
   "cell_type": "code",
   "execution_count": 402,
   "id": "reserved-football",
   "metadata": {
    "ExecuteTime": {
     "end_time": "2021-11-07T05:57:35.747314Z",
     "start_time": "2021-11-07T05:57:35.716398Z"
    }
   },
   "outputs": [
    {
     "data": {
      "text/html": [
       "<div>\n",
       "<style scoped>\n",
       "    .dataframe tbody tr th:only-of-type {\n",
       "        vertical-align: middle;\n",
       "    }\n",
       "\n",
       "    .dataframe tbody tr th {\n",
       "        vertical-align: top;\n",
       "    }\n",
       "\n",
       "    .dataframe thead th {\n",
       "        text-align: right;\n",
       "    }\n",
       "</style>\n",
       "<table border=\"1\" class=\"dataframe\">\n",
       "  <thead>\n",
       "    <tr style=\"text-align: right;\">\n",
       "      <th></th>\n",
       "      <th>index</th>\n",
       "      <th>상품명</th>\n",
       "      <th>성별</th>\n",
       "      <th>카테고리</th>\n",
       "      <th>용도</th>\n",
       "    </tr>\n",
       "  </thead>\n",
       "  <tbody>\n",
       "    <tr>\n",
       "      <th>96</th>\n",
       "      <td>96</td>\n",
       "      <td>[블루독베이비]크리스마스 수트 SET 40C70-675-03-BON</td>\n",
       "      <td>여성</td>\n",
       "      <td>맨투맨</td>\n",
       "      <td>여아의류</td>\n",
       "    </tr>\n",
       "    <tr>\n",
       "      <th>97</th>\n",
       "      <td>97</td>\n",
       "      <td>[바브키즈]바브키즈 가을신상 티/팬츠 모음전</td>\n",
       "      <td>공용</td>\n",
       "      <td>맨투맨</td>\n",
       "      <td>남아의류</td>\n",
       "    </tr>\n",
       "    <tr>\n",
       "      <th>98</th>\n",
       "      <td>98</td>\n",
       "      <td>[블랙야크키즈]BKS이센스맨투맨티셔츠</td>\n",
       "      <td>공용</td>\n",
       "      <td>티셔츠</td>\n",
       "      <td>유아공동의류</td>\n",
       "    </tr>\n",
       "    <tr>\n",
       "      <th>99</th>\n",
       "      <td>99</td>\n",
       "      <td>[팬콧키즈]팬콧키즈 아동 가을신상 가격인하 50종 택1</td>\n",
       "      <td>여성</td>\n",
       "      <td>원피스</td>\n",
       "      <td>여아의류</td>\n",
       "    </tr>\n",
       "    <tr>\n",
       "      <th>100</th>\n",
       "      <td>0</td>\n",
       "      <td>user_preference</td>\n",
       "      <td>공용</td>\n",
       "      <td>플리스</td>\n",
       "      <td>유아공동의류</td>\n",
       "    </tr>\n",
       "  </tbody>\n",
       "</table>\n",
       "</div>"
      ],
      "text/plain": [
       "     index                                    상품명  성별 카테고리      용도\n",
       "96      96  [블루독베이비]크리스마스 수트 SET 40C70-675-03-BON  여성  맨투맨    여아의류\n",
       "97      97               [바브키즈]바브키즈 가을신상 티/팬츠 모음전  공용  맨투맨    남아의류\n",
       "98      98                   [블랙야크키즈]BKS이센스맨투맨티셔츠  공용  티셔츠  유아공동의류\n",
       "99      99         [팬콧키즈]팬콧키즈 아동 가을신상 가격인하 50종 택1  여성  원피스    여아의류\n",
       "100      0                        user_preference  공용  플리스  유아공동의류"
      ]
     },
     "execution_count": 402,
     "metadata": {},
     "output_type": "execute_result"
    }
   ],
   "source": [
    "product_df_ohc=pd.get_dummies(data=product_df,columns=['성별'],prefix='성별')\n",
    "product_df_ohc=pd.get_dummies(data=product_df_ohc,columns=['카테고리'],prefix='카테고리')\n",
    "product_df_ohc=pd.get_dummies(data=product_df_ohc,columns=['용도'],prefix='용도')\n",
    "product_df.tail()"
   ]
  },
  {
   "cell_type": "code",
   "execution_count": 403,
   "id": "opening-stereo",
   "metadata": {
    "ExecuteTime": {
     "end_time": "2021-11-07T05:57:36.110257Z",
     "start_time": "2021-11-07T05:57:36.096291Z"
    }
   },
   "outputs": [],
   "source": [
    "product_df_ohc.drop('index', axis=1, inplace=True)"
   ]
  },
  {
   "cell_type": "code",
   "execution_count": 404,
   "id": "spoken-remainder",
   "metadata": {
    "ExecuteTime": {
     "end_time": "2021-11-07T05:57:36.726737Z",
     "start_time": "2021-11-07T05:57:36.711279Z"
    }
   },
   "outputs": [],
   "source": [
    "from numpy import dot\n",
    "from numpy.linalg import norm\n",
    "import numpy as np\n",
    "\n",
    "def cos_sim(A, B):\n",
    "    result = dot(A, B)/(norm(A)*norm(B))\n",
    "    return result"
   ]
  },
  {
   "cell_type": "code",
   "execution_count": 405,
   "id": "seasonal-truth",
   "metadata": {
    "ExecuteTime": {
     "end_time": "2021-11-07T05:57:37.203971Z",
     "start_time": "2021-11-07T05:57:37.188049Z"
    }
   },
   "outputs": [],
   "source": [
    "product_df_ohc.set_index(['상품명'],inplace=True)"
   ]
  },
  {
   "cell_type": "code",
   "execution_count": 406,
   "id": "previous-castle",
   "metadata": {
    "ExecuteTime": {
     "end_time": "2021-11-07T05:57:37.455833Z",
     "start_time": "2021-11-07T05:57:37.436858Z"
    }
   },
   "outputs": [
    {
     "data": {
      "text/plain": [
       "array([[1, 0, 0, ..., 1, 0, 0],\n",
       "       [0, 0, 1, ..., 0, 0, 0],\n",
       "       [0, 0, 1, ..., 0, 0, 0],\n",
       "       ...,\n",
       "       [1, 0, 0, ..., 0, 0, 0],\n",
       "       [0, 0, 1, ..., 0, 0, 0],\n",
       "       [1, 0, 0, ..., 0, 0, 0]], dtype=uint8)"
      ]
     },
     "execution_count": 406,
     "metadata": {},
     "output_type": "execute_result"
    }
   ],
   "source": [
    "product_df_ohc.values"
   ]
  },
  {
   "cell_type": "code",
   "execution_count": 407,
   "id": "threatened-atlantic",
   "metadata": {
    "ExecuteTime": {
     "end_time": "2021-11-07T05:57:37.848718Z",
     "start_time": "2021-11-07T05:57:37.831727Z"
    }
   },
   "outputs": [],
   "source": [
    "from sklearn.metrics.pairwise import linear_kernel\n",
    "cosine_sim = linear_kernel(product_df_ohc, product_df_ohc)\n",
    "\n",
    "# 코사인 유사도가 1이 초과하는 경우로 인한 /3 처리\n",
    "cosine_sim = cosine_sim/3"
   ]
  },
  {
   "cell_type": "code",
   "execution_count": 408,
   "id": "descending-folks",
   "metadata": {
    "ExecuteTime": {
     "end_time": "2021-11-07T05:57:38.399451Z",
     "start_time": "2021-11-07T05:57:38.382501Z"
    }
   },
   "outputs": [
    {
     "data": {
      "text/plain": [
       "array([[1.        , 0.        , 0.        , ..., 0.33333333, 0.        ,\n",
       "        0.33333333],\n",
       "       [0.        , 1.        , 0.66666667, ..., 0.        , 0.66666667,\n",
       "        0.        ],\n",
       "       [0.        , 0.66666667, 1.        , ..., 0.        , 1.        ,\n",
       "        0.        ],\n",
       "       ...,\n",
       "       [0.33333333, 0.        , 0.        , ..., 1.        , 0.        ,\n",
       "        0.66666667],\n",
       "       [0.        , 0.66666667, 1.        , ..., 0.        , 1.        ,\n",
       "        0.        ],\n",
       "       [0.33333333, 0.        , 0.        , ..., 0.66666667, 0.        ,\n",
       "        1.        ]])"
      ]
     },
     "execution_count": 408,
     "metadata": {},
     "output_type": "execute_result"
    }
   ],
   "source": [
    "cosine_sim"
   ]
  },
  {
   "cell_type": "code",
   "execution_count": 424,
   "id": "involved-omega",
   "metadata": {
    "ExecuteTime": {
     "end_time": "2021-11-07T05:59:55.231411Z",
     "start_time": "2021-11-07T05:59:55.218449Z"
    }
   },
   "outputs": [
    {
     "name": "stdout",
     "output_type": "stream",
     "text": [
      "상품명\n",
      "[팬콧키즈]20%+10% 쿠폰 팬콧 주니어 윈터 아우터 기모 빅세일    0\n",
      "[페리미츠]레노마키즈 페리미츠 겨울 아우터/맨투맨/팬츠外 70종      1\n",
      "[버블트리]주니어 여아 의류 아동복 원피스 팬츠 티셔츠           2\n",
      "[젤리스푼]아동복/아동의류/키즈경량패딩/레깅스/원피스/뽀글이        3\n",
      "[휠라키즈](신세계강남점)휠라키즈 글로브 포켓맨투맨 2종          4\n",
      "dtype: int64\n"
     ]
    }
   ],
   "source": [
    "indices =pd.Series(range(len(product_df_ohc)),index=product_df_ohc.index)\n",
    "print(indices.head())"
   ]
  },
  {
   "cell_type": "code",
   "execution_count": 425,
   "id": "official-uganda",
   "metadata": {
    "ExecuteTime": {
     "end_time": "2021-11-07T05:59:55.388449Z",
     "start_time": "2021-11-07T05:59:55.371496Z"
    }
   },
   "outputs": [
    {
     "name": "stdout",
     "output_type": "stream",
     "text": [
      "0    [팬콧키즈]20%+10% 쿠폰 팬콧 주니어 윈터 아우터 기모 빅세일\n",
      "1      [페리미츠]레노마키즈 페리미츠 겨울 아우터/맨투맨/팬츠外 70종\n",
      "2           [버블트리]주니어 여아 의류 아동복 원피스 팬츠 티셔츠\n",
      "3        [젤리스푼]아동복/아동의류/키즈경량패딩/레깅스/원피스/뽀글이\n",
      "4          [휠라키즈](신세계강남점)휠라키즈 글로브 포켓맨투맨 2종\n",
      "Name: 상품명, dtype: object\n"
     ]
    }
   ],
   "source": [
    "indices1=pd.Series(product_df_ohc.index)\n",
    "print(indices1.head())"
   ]
  },
  {
   "cell_type": "code",
   "execution_count": 426,
   "id": "bizarre-flush",
   "metadata": {
    "ExecuteTime": {
     "end_time": "2021-11-07T05:59:56.952767Z",
     "start_time": "2021-11-07T05:59:56.934816Z"
    }
   },
   "outputs": [],
   "source": [
    "product_df = product_df.reset_index()\n",
    "product_df.drop('index', axis=1, inplace=True)"
   ]
  },
  {
   "cell_type": "code",
   "execution_count": 506,
   "id": "empirical-tablet",
   "metadata": {
    "ExecuteTime": {
     "end_time": "2021-11-07T06:11:14.619452Z",
     "start_time": "2021-11-07T06:11:14.610441Z"
    }
   },
   "outputs": [],
   "source": [
    "def get_recommendations(title, cosine_sim=cosine_sim):\n",
    "    # 선택한 영화의 타이틀로부터 해당되는 인덱스를 받아옵니다. 이제 선택한 영화를 가지고 연산할 수 있습니다.\n",
    "    idx = indices[title]\n",
    "\n",
    "    # 모든 영화에 대해서 해당 상품과의 유사도를 구합니다.\n",
    "    sim_scores = list(enumerate(cosine_sim[idx]))\n",
    "\n",
    "    # 유사도에 따라 상품들을 정렬합니다.\n",
    "    sim_scores = sorted(sim_scores, key=lambda x: x[1], reverse=True)\n",
    "\n",
    "    # 가장 유사한 10개의 상품을 받아옵니다.\n",
    "    sim_scores = sim_scores[1:11]\n",
    "    \n",
    "    # 가장 유사한 10개의 상품의 인덱스를 받아옵니다.\n",
    "    item_indices = [i[0] for i in sim_scores]\n",
    "    sim_scores_for_df = [i[1] for i in sim_scores]\n",
    "    print(sim_scores_for_df)\n",
    "    \n",
    "    result=pd.DataFrame(indices1[item_indices])\n",
    "    laster=pd.merge(result,product_df_org,how='left' )\n",
    "    \n",
    "    # user_preference가 출력되는 오류 방지\n",
    "    if laster['상품명'].str.contains('user_preference').any():\n",
    "        print('start condition code')\n",
    "        sim_scores = list(enumerate(cosine_sim[idx]))\n",
    "        sim_scores = sorted(sim_scores, key=lambda x: x[1], reverse=True)\n",
    "        sim_scores = sim_scores[1:12]\n",
    "        item_indices = [i[0] for i in sim_scores]\n",
    "        sim_scores_for_df = [i[1] for i in sim_scores]\n",
    "        result=pd.DataFrame(indices1[item_indices])\n",
    "        laster=pd.merge(result,product_df_org,how='left')\n",
    "        \n",
    "    laster = laster[['상품명', '이미지링크', '정상가', '할인가']]\n",
    "    sim_socres_df = pd.DataFrame({'유사도':sim_scores_for_df})\n",
    "    sim_socres_df = sim_socres_df['유사도'].round(1)\n",
    "    result = pd.concat([laster, sim_socres_df], axis=1)\n",
    "    \n",
    "    # user_preference 삭제\n",
    "    if (result['상품명'] == 'user_preference').any():\n",
    "        result = result[result['상품명'] != 'user_preference']\n",
    "        \n",
    "    # 가장 유사한 10개의 상품명 리턴합니다.\n",
    "    return result"
   ]
  },
  {
   "cell_type": "code",
   "execution_count": 508,
   "id": "mechanical-moisture",
   "metadata": {
    "ExecuteTime": {
     "end_time": "2021-11-07T06:11:15.451629Z",
     "start_time": "2021-11-07T06:11:15.417684Z"
    }
   },
   "outputs": [
    {
     "name": "stdout",
     "output_type": "stream",
     "text": [
      "[1.0, 1.0, 1.0, 1.0, 0.6666666666666666, 0.6666666666666666, 0.6666666666666666, 0.6666666666666666, 0.6666666666666666, 0.6666666666666666]\n",
      "start condition code\n"
     ]
    },
    {
     "data": {
      "text/html": [
       "<div>\n",
       "<style scoped>\n",
       "    .dataframe tbody tr th:only-of-type {\n",
       "        vertical-align: middle;\n",
       "    }\n",
       "\n",
       "    .dataframe tbody tr th {\n",
       "        vertical-align: top;\n",
       "    }\n",
       "\n",
       "    .dataframe thead th {\n",
       "        text-align: right;\n",
       "    }\n",
       "</style>\n",
       "<table border=\"1\" class=\"dataframe\">\n",
       "  <thead>\n",
       "    <tr style=\"text-align: right;\">\n",
       "      <th></th>\n",
       "      <th>상품명</th>\n",
       "      <th>이미지링크</th>\n",
       "      <th>정상가</th>\n",
       "      <th>할인가</th>\n",
       "      <th>유사도</th>\n",
       "    </tr>\n",
       "  </thead>\n",
       "  <tbody>\n",
       "    <tr>\n",
       "      <th>0</th>\n",
       "      <td>[아이더](신세계센텀점)아이더 [21FW] 신상품 몽크 키즈 플리스 자켓 / JUU...</td>\n",
       "      <td>http://gdimg.gmarket.co.kr/2185024493/still/28...</td>\n",
       "      <td>45,000원</td>\n",
       "      <td>37,350원</td>\n",
       "      <td>1.0</td>\n",
       "    </tr>\n",
       "    <tr>\n",
       "      <th>1</th>\n",
       "      <td>[노스페이스키즈]키즈 컴피 EX 플리스 자켓 NJ4FM60 3종 택1</td>\n",
       "      <td>http://gdimg.gmarket.co.kr/2241720630/still/28...</td>\n",
       "      <td>NaN</td>\n",
       "      <td>65,280원</td>\n",
       "      <td>1.0</td>\n",
       "    </tr>\n",
       "    <tr>\n",
       "      <th>2</th>\n",
       "      <td>[휠라키즈][휠라키즈] 역시즌특가/크레마 보아플리스4종택1/FK2PLC4101X</td>\n",
       "      <td>http://gdimg.gmarket.co.kr/1992877145/still/28...</td>\n",
       "      <td>34,300원</td>\n",
       "      <td>26,070원</td>\n",
       "      <td>1.0</td>\n",
       "    </tr>\n",
       "    <tr>\n",
       "      <th>4</th>\n",
       "      <td>[네파키즈]파일 플리스 자켓 KHF6151</td>\n",
       "      <td>http://gdimg.gmarket.co.kr/2259643283/still/30...</td>\n",
       "      <td>39,000원</td>\n",
       "      <td>30,030원</td>\n",
       "      <td>0.7</td>\n",
       "    </tr>\n",
       "    <tr>\n",
       "      <th>5</th>\n",
       "      <td>[네파키즈](신세계강남점)[네파키즈] 21FW 보아 플리스 자켓 KHF6153</td>\n",
       "      <td>http://gdimg.gmarket.co.kr/2177226387/still/30...</td>\n",
       "      <td>59,000원</td>\n",
       "      <td>43,660원</td>\n",
       "      <td>0.7</td>\n",
       "    </tr>\n",
       "    <tr>\n",
       "      <th>6</th>\n",
       "      <td>[네파키즈]리버서블 보아 플리스 자켓 KHF6103</td>\n",
       "      <td>http://gdimg.gmarket.co.kr/2224110884/still/30...</td>\n",
       "      <td>87,200원</td>\n",
       "      <td>67,150원</td>\n",
       "      <td>0.7</td>\n",
       "    </tr>\n",
       "    <tr>\n",
       "      <th>7</th>\n",
       "      <td>[디스커버리] 겨울준비끝 겨울아우터_중계점</td>\n",
       "      <td>http://gdimg.gmarket.co.kr/1894588278/still/60...</td>\n",
       "      <td>NaN</td>\n",
       "      <td>193,000원</td>\n",
       "      <td>0.7</td>\n",
       "    </tr>\n",
       "    <tr>\n",
       "      <th>8</th>\n",
       "      <td>[탑텐키즈](대구신세계)[탑텐키즈] 아동) 덤블보아 롱 집업(MKB4TC3003)</td>\n",
       "      <td>http://gdimg.gmarket.co.kr/2165813219/still/30...</td>\n",
       "      <td>39,900원</td>\n",
       "      <td>35,120원</td>\n",
       "      <td>0.7</td>\n",
       "    </tr>\n",
       "    <tr>\n",
       "      <th>9</th>\n",
       "      <td>[네파키즈]보아플리스 베스트 KHF6102</td>\n",
       "      <td>http://gdimg.gmarket.co.kr/2224110885/still/30...</td>\n",
       "      <td>55,200원</td>\n",
       "      <td>42,510원</td>\n",
       "      <td>0.7</td>\n",
       "    </tr>\n",
       "    <tr>\n",
       "      <th>10</th>\n",
       "      <td>[블루독베이비](부산점)블루독베이비 공용 베이비 루돌프 상하복 49D1361006</td>\n",
       "      <td>http://gdimg.gmarket.co.kr/2266496397/still/60...</td>\n",
       "      <td>31,000원</td>\n",
       "      <td>29,450원</td>\n",
       "      <td>0.7</td>\n",
       "    </tr>\n",
       "  </tbody>\n",
       "</table>\n",
       "</div>"
      ],
      "text/plain": [
       "                                                  상품명  \\\n",
       "0   [아이더](신세계센텀점)아이더 [21FW] 신상품 몽크 키즈 플리스 자켓 / JUU...   \n",
       "1              [노스페이스키즈]키즈 컴피 EX 플리스 자켓 NJ4FM60 3종 택1   \n",
       "2        [휠라키즈][휠라키즈] 역시즌특가/크레마 보아플리스4종택1/FK2PLC4101X   \n",
       "4                             [네파키즈]파일 플리스 자켓 KHF6151   \n",
       "5         [네파키즈](신세계강남점)[네파키즈] 21FW 보아 플리스 자켓 KHF6153   \n",
       "6                        [네파키즈]리버서블 보아 플리스 자켓 KHF6103   \n",
       "7                             [디스커버리] 겨울준비끝 겨울아우터_중계점   \n",
       "8       [탑텐키즈](대구신세계)[탑텐키즈] 아동) 덤블보아 롱 집업(MKB4TC3003)   \n",
       "9                             [네파키즈]보아플리스 베스트 KHF6102   \n",
       "10      [블루독베이비](부산점)블루독베이비 공용 베이비 루돌프 상하복 49D1361006   \n",
       "\n",
       "                                                이미지링크      정상가       할인가  유사도  \n",
       "0   http://gdimg.gmarket.co.kr/2185024493/still/28...  45,000원   37,350원  1.0  \n",
       "1   http://gdimg.gmarket.co.kr/2241720630/still/28...      NaN   65,280원  1.0  \n",
       "2   http://gdimg.gmarket.co.kr/1992877145/still/28...  34,300원   26,070원  1.0  \n",
       "4   http://gdimg.gmarket.co.kr/2259643283/still/30...  39,000원   30,030원  0.7  \n",
       "5   http://gdimg.gmarket.co.kr/2177226387/still/30...  59,000원   43,660원  0.7  \n",
       "6   http://gdimg.gmarket.co.kr/2224110884/still/30...  87,200원   67,150원  0.7  \n",
       "7   http://gdimg.gmarket.co.kr/1894588278/still/60...      NaN  193,000원  0.7  \n",
       "8   http://gdimg.gmarket.co.kr/2165813219/still/30...  39,900원   35,120원  0.7  \n",
       "9   http://gdimg.gmarket.co.kr/2224110885/still/30...  55,200원   42,510원  0.7  \n",
       "10  http://gdimg.gmarket.co.kr/2266496397/still/60...  31,000원   29,450원  0.7  "
      ]
     },
     "execution_count": 508,
     "metadata": {},
     "output_type": "execute_result"
    }
   ],
   "source": [
    "B = get_recommendations('user_preference')\n",
    "B"
   ]
  },
  {
   "cell_type": "code",
   "execution_count": null,
   "id": "novel-orange",
   "metadata": {},
   "outputs": [],
   "source": []
  }
 ],
 "metadata": {
  "kernelspec": {
   "display_name": "Python 3",
   "language": "python",
   "name": "python3"
  },
  "language_info": {
   "codemirror_mode": {
    "name": "ipython",
    "version": 3
   },
   "file_extension": ".py",
   "mimetype": "text/x-python",
   "name": "python",
   "nbconvert_exporter": "python",
   "pygments_lexer": "ipython3",
   "version": "3.7.10"
  },
  "nbTranslate": {
   "displayLangs": [
    "*"
   ],
   "hotkey": "alt-t",
   "langInMainMenu": true,
   "sourceLang": "en",
   "targetLang": "fr",
   "useGoogleTranslate": true
  },
  "toc": {
   "base_numbering": 1,
   "nav_menu": {},
   "number_sections": true,
   "sideBar": true,
   "skip_h1_title": false,
   "title_cell": "Table of Contents",
   "title_sidebar": "Contents",
   "toc_cell": false,
   "toc_position": {},
   "toc_section_display": true,
   "toc_window_display": false
  },
  "varInspector": {
   "cols": {
    "lenName": 16,
    "lenType": 16,
    "lenVar": 40
   },
   "kernels_config": {
    "python": {
     "delete_cmd_postfix": "",
     "delete_cmd_prefix": "del ",
     "library": "var_list.py",
     "varRefreshCmd": "print(var_dic_list())"
    },
    "r": {
     "delete_cmd_postfix": ") ",
     "delete_cmd_prefix": "rm(",
     "library": "var_list.r",
     "varRefreshCmd": "cat(var_dic_list()) "
    }
   },
   "types_to_exclude": [
    "module",
    "function",
    "builtin_function_or_method",
    "instance",
    "_Feature"
   ],
   "window_display": false
  }
 },
 "nbformat": 4,
 "nbformat_minor": 5
}
